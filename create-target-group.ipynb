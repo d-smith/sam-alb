{
 "cells": [
  {
   "cell_type": "code",
   "execution_count": null,
   "metadata": {},
   "outputs": [],
   "source": [
    "import boto3\n",
    "\n",
    "client = boto3.client('elbv2')"
   ]
  },
  {
   "cell_type": "code",
   "execution_count": null,
   "metadata": {},
   "outputs": [],
   "source": [
    "response = client.create_target_group(\n",
    "    Name='geoff',\n",
    "    HealthCheckEnabled=True,\n",
    "    HealthCheckPath='/health',\n",
    "    TargetType='lambda'\n",
    ")"
   ]
  },
  {
   "cell_type": "code",
   "execution_count": null,
   "metadata": {},
   "outputs": [],
   "source": [
    "print(response)"
   ]
  },
  {
   "cell_type": "code",
   "execution_count": null,
   "metadata": {},
   "outputs": [],
   "source": [
    "cfclient = boto3.client('cloudformation')"
   ]
  },
  {
   "cell_type": "code",
   "execution_count": null,
   "metadata": {},
   "outputs": [],
   "source": [
    "stack_id = 'arn:aws:cloudformation:us-east-1:427848627088:stack/mf3/46204ce0-3b82-11e9-9c8a-12967e4454e6'\n",
    "logical_resid = 'MyCustomTargetGroup'"
   ]
  },
  {
   "cell_type": "code",
   "execution_count": null,
   "metadata": {},
   "outputs": [],
   "source": [
    "response = cfclient.describe_stack_resources(\n",
    "    StackName=stack_id,\n",
    ")"
   ]
  },
  {
   "cell_type": "code",
   "execution_count": null,
   "metadata": {},
   "outputs": [],
   "source": [
    "print(response)"
   ]
  },
  {
   "cell_type": "code",
   "execution_count": null,
   "metadata": {},
   "outputs": [],
   "source": [
    "response = client.describe_target_groups(\n",
    "\n",
    "    Names=[\n",
    "        'mf3-hwFunction',\n",
    "    ]\n",
    ")\n",
    "\n",
    "print(response['TargetGroups'][0]['TargetGroupArn'])"
   ]
  },
  {
   "cell_type": "code",
   "execution_count": null,
   "metadata": {},
   "outputs": [],
   "source": [
    "response = client.describe_load_balancers(\n",
    "    Names=['geoffry']\n",
    ")"
   ]
  },
  {
   "cell_type": "code",
   "execution_count": null,
   "metadata": {},
   "outputs": [],
   "source": [
    "print(response['LoadBalancers'][0])"
   ]
  },
  {
   "cell_type": "code",
   "execution_count": null,
   "metadata": {},
   "outputs": [],
   "source": [
    "listenerResponse = client.describe_listeners(\n",
    "    LoadBalancerArn=response['LoadBalancers'][0]['LoadBalancerArn']\n",
    ")"
   ]
  },
  {
   "cell_type": "code",
   "execution_count": null,
   "metadata": {},
   "outputs": [],
   "source": [
    "print(listenerResponse)"
   ]
  },
  {
   "cell_type": "code",
   "execution_count": null,
   "metadata": {},
   "outputs": [],
   "source": [
    "listener = [d for d in listenerResponse['Listeners'] if d['Protocol'] == 'HTTPS' and d['Port'] == 443][0]\n",
    "print(listener)\n",
    "listenerArn = listener['ListenerArn']\n",
    "print(listenerArn)"
   ]
  },
  {
   "cell_type": "code",
   "execution_count": null,
   "metadata": {},
   "outputs": [],
   "source": [
    "rulesResp = client.describe_rules(\n",
    "    ListenerArn=listenerArn\n",
    ")"
   ]
  },
  {
   "cell_type": "code",
   "execution_count": null,
   "metadata": {},
   "outputs": [],
   "source": [
    "print(rulesResp)"
   ]
  },
  {
   "cell_type": "code",
   "execution_count": null,
   "metadata": {},
   "outputs": [],
   "source": [
    "nonDefs = [r for r in rulesResp['Rules'] if r['Priority'] != 'default']\n",
    "print(nonDefs)"
   ]
  },
  {
   "cell_type": "code",
   "execution_count": null,
   "metadata": {},
   "outputs": [],
   "source": [
    "priorities = [r['Priority'] for r in rulesResp['Rules'] if r['Priority'] != 'default']\n",
    "print(list(map(int, priorities)))\n",
    "print(max(list(map(int, priorities))))"
   ]
  },
  {
   "cell_type": "code",
   "execution_count": null,
   "metadata": {},
   "outputs": [],
   "source": [
    "def next_order_no(listenerArn, elbClient):\n",
    "    rulesResp = elbClient.describe_rules(\n",
    "        ListenerArn=listenerArn\n",
    "    )\n",
    "    \n",
    "    priorities = [r['Priority'] for r in rulesResp['Rules'] if r['Priority'] != 'default']\n",
    "    return max(list(map(int, priorities)))"
   ]
  },
  {
   "cell_type": "code",
   "execution_count": null,
   "metadata": {},
   "outputs": [],
   "source": [
    "next_order_no(listenerArn, client)"
   ]
  },
  {
   "cell_type": "code",
   "execution_count": null,
   "metadata": {},
   "outputs": [],
   "source": [
    "def get_listener_arn(lb_name, proto, port, elbClient):\n",
    "    # First get the load balancer arn\n",
    "    response = elbClient.describe_load_balancers(\n",
    "        Names=[lb_name]\n",
    "    )\n",
    "    \n",
    "    lbArn = response['LoadBalancers'][0]['LoadBalancerArn']\n",
    "    \n",
    "    # Now get the listeners and filter by desired protocol and port\n",
    "    listenerResponse = elbClient.describe_listeners(\n",
    "        LoadBalancerArn=lbArn\n",
    "    )\n",
    "    \n",
    "    listener = [d for d in listenerResponse['Listeners'] if d['Protocol'] == proto and d['Port'] == port][0]\n",
    "    \n",
    "    return listener['ListenerArn']\n",
    "    \n",
    "    \n",
    "    \n",
    "    "
   ]
  },
  {
   "cell_type": "code",
   "execution_count": null,
   "metadata": {},
   "outputs": [],
   "source": [
    "get_listener_arn('geoffry', 'HTTPS',443, client)"
   ]
  },
  {
   "cell_type": "code",
   "execution_count": null,
   "metadata": {},
   "outputs": [],
   "source": [
    "next_order_no(get_listener_arn('geoffry', 'HTTPS',443, client),client)"
   ]
  },
  {
   "cell_type": "code",
   "execution_count": null,
   "metadata": {},
   "outputs": [],
   "source": []
  }
 ],
 "metadata": {
  "kernelspec": {
   "display_name": "Python 3",
   "language": "python",
   "name": "python3"
  },
  "language_info": {
   "codemirror_mode": {
    "name": "ipython",
    "version": 3
   },
   "file_extension": ".py",
   "mimetype": "text/x-python",
   "name": "python",
   "nbconvert_exporter": "python",
   "pygments_lexer": "ipython3",
   "version": "3.6.5"
  }
 },
 "nbformat": 4,
 "nbformat_minor": 2
}
